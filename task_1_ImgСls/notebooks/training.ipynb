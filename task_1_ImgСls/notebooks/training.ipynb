{
 "cells": [
  {
   "cell_type": "code",
   "id": "initial_id",
   "metadata": {
    "collapsed": true,
    "ExecuteTime": {
     "end_time": "2025-02-17T13:12:49.741029Z",
     "start_time": "2025-02-17T13:12:49.732503Z"
    }
   },
   "source": [
    "from task_1_ImgСls.src.classifiers.mnist_classifier import MnistClassifier\n",
    "from task_1_ImgСls.src.data_loader import load_data\n",
    "from task_1_ImgСls.src.paths import RF_CLS_PATH, FNN_CLS_PATH, CNN_CLS_PATH\n",
    "from sklearn.metrics import accuracy_score, f1_score"
   ],
   "outputs": [],
   "execution_count": 6
  },
  {
   "metadata": {},
   "cell_type": "markdown",
   "source": "## 1. Data Loading",
   "id": "f54f1097971416ef"
  },
  {
   "metadata": {
    "ExecuteTime": {
     "end_time": "2025-02-17T13:12:55.996073Z",
     "start_time": "2025-02-17T13:12:50.309813Z"
    }
   },
   "cell_type": "code",
   "source": [
    "X_train_s, X_test_s, y_train_s, y_test_s = load_data(library='sklearn')\n",
    "train_loader_p, val_loader_p, test_images_p, test_labels_p = load_data(library='pytorch')"
   ],
   "id": "4a802455f433286e",
   "outputs": [],
   "execution_count": 7
  },
  {
   "metadata": {},
   "cell_type": "markdown",
   "source": "## 2. Random Forest",
   "id": "3d3a65bcd094673a"
  },
  {
   "metadata": {
    "ExecuteTime": {
     "end_time": "2025-02-17T13:14:21.257568Z",
     "start_time": "2025-02-17T13:12:55.996073Z"
    }
   },
   "cell_type": "code",
   "source": [
    "rf_cls = MnistClassifier('rf')\n",
    "rf_cls.train(X_train_s, y_train_s)"
   ],
   "id": "2b139fdeafd36d15",
   "outputs": [],
   "execution_count": 8
  },
  {
   "metadata": {
    "ExecuteTime": {
     "end_time": "2025-02-17T13:14:22.381367Z",
     "start_time": "2025-02-17T13:14:21.257568Z"
    }
   },
   "cell_type": "code",
   "source": [
    "rf_pred = rf_cls.predict(X_test_s)\n",
    "print(f'Accuracy : {accuracy_score(y_test_s, rf_pred)}\\n'\n",
    "      f'f1_score : {f1_score(y_test_s, rf_pred, average='macro')}')"
   ],
   "id": "1db38e6cf21766",
   "outputs": [
    {
     "name": "stdout",
     "output_type": "stream",
     "text": [
      "Accuracy : 0.9671428571428572\n",
      "f1_score : 0.9669757161699633\n"
     ]
    }
   ],
   "execution_count": 9
  },
  {
   "metadata": {
    "ExecuteTime": {
     "end_time": "2025-02-17T13:14:24.884321Z",
     "start_time": "2025-02-17T13:14:22.381367Z"
    }
   },
   "cell_type": "code",
   "source": "rf_cls.save(RF_CLS_PATH)",
   "id": "ff0e5a2e49af8b2b",
   "outputs": [],
   "execution_count": 10
  },
  {
   "metadata": {},
   "cell_type": "markdown",
   "source": "## 3. Feed-Forward NN",
   "id": "3b72d91528b8dcd5"
  },
  {
   "metadata": {
    "ExecuteTime": {
     "end_time": "2025-02-17T12:01:59.439235Z",
     "start_time": "2025-02-17T12:01:59.232585Z"
    }
   },
   "cell_type": "code",
   "source": "ffnn_cls = MnistClassifier('ffnn')",
   "id": "fa3aae01ae3e14d8",
   "outputs": [],
   "execution_count": 7
  },
  {
   "metadata": {
    "ExecuteTime": {
     "end_time": "2025-02-17T12:06:37.782726Z",
     "start_time": "2025-02-17T12:02:00.264124Z"
    }
   },
   "cell_type": "code",
   "source": "ffnn_cls.train(train_loader_p, val_loader_p)",
   "id": "7db359f1baa685b9",
   "outputs": [
    {
     "name": "stdout",
     "output_type": "stream",
     "text": [
      "Epoch 1/50, Train Loss: 0.3788, Validation Loss: 0.1654\n",
      "Epoch 2/50, Train Loss: 0.1801, Validation Loss: 0.1235\n",
      "Epoch 3/50, Train Loss: 0.1426, Validation Loss: 0.1077\n",
      "Epoch 4/50, Train Loss: 0.1161, Validation Loss: 0.0979\n",
      "Epoch 5/50, Train Loss: 0.1077, Validation Loss: 0.1062\n",
      "Epoch 6/50, Train Loss: 0.0956, Validation Loss: 0.0891\n",
      "Epoch 7/50, Train Loss: 0.0883, Validation Loss: 0.0959\n",
      "Epoch 8/50, Train Loss: 0.0809, Validation Loss: 0.0913\n",
      "Epoch 9/50, Train Loss: 0.0769, Validation Loss: 0.0887\n",
      "Epoch 10/50, Train Loss: 0.0731, Validation Loss: 0.0954\n",
      "Epoch 11/50, Train Loss: 0.0710, Validation Loss: 0.0872\n",
      "Epoch 12/50, Train Loss: 0.0696, Validation Loss: 0.0810\n",
      "Epoch 13/50, Train Loss: 0.0668, Validation Loss: 0.0834\n",
      "Epoch 14/50, Train Loss: 0.0642, Validation Loss: 0.0840\n",
      "Epoch 15/50, Train Loss: 0.0625, Validation Loss: 0.0834\n",
      "Epoch 16/50, Train Loss: 0.0613, Validation Loss: 0.0831\n",
      "Epoch 17/50, Train Loss: 0.0594, Validation Loss: 0.0784\n",
      "Epoch 18/50, Train Loss: 0.0591, Validation Loss: 0.0871\n",
      "Epoch 19/50, Train Loss: 0.0565, Validation Loss: 0.0844\n",
      "Epoch 20/50, Train Loss: 0.0567, Validation Loss: 0.0845\n",
      "Epoch 21/50, Train Loss: 0.0559, Validation Loss: 0.0823\n",
      "Epoch 22/50, Train Loss: 0.0563, Validation Loss: 0.0826\n",
      "Early stopping triggered at epoch 22.\n"
     ]
    }
   ],
   "execution_count": 8
  },
  {
   "metadata": {
    "ExecuteTime": {
     "end_time": "2025-02-17T12:06:42.411429Z",
     "start_time": "2025-02-17T12:06:42.335665Z"
    }
   },
   "cell_type": "code",
   "source": [
    "ffnn_pred = ffnn_cls.predict(test_images_p)\n",
    "print(f'Accuracy : {accuracy_score(test_labels_p, ffnn_pred)}\\n'\n",
    "      f'f1_score : {f1_score(test_labels_p, ffnn_pred, average='macro')}')"
   ],
   "id": "697609d5724df20a",
   "outputs": [
    {
     "name": "stdout",
     "output_type": "stream",
     "text": [
      "Accuracy : 0.9557\n",
      "f1_score : 0.955444880355906\n"
     ]
    }
   ],
   "execution_count": 9
  },
  {
   "metadata": {
    "ExecuteTime": {
     "end_time": "2025-02-17T12:06:47.847289Z",
     "start_time": "2025-02-17T12:06:47.835165Z"
    }
   },
   "cell_type": "code",
   "source": "ffnn_cls.save(FNN_CLS_PATH)",
   "id": "b424001bb418750a",
   "outputs": [],
   "execution_count": 10
  },
  {
   "metadata": {},
   "cell_type": "markdown",
   "source": "## 4. CNN ",
   "id": "d01d3a7edea7e6cf"
  },
  {
   "metadata": {
    "ExecuteTime": {
     "end_time": "2025-02-17T12:06:50.352557Z",
     "start_time": "2025-02-17T12:06:50.329653Z"
    }
   },
   "cell_type": "code",
   "source": "cnn_cls = MnistClassifier('cnn')",
   "id": "e5a1659bdc49d847",
   "outputs": [],
   "execution_count": 11
  },
  {
   "metadata": {
    "ExecuteTime": {
     "end_time": "2025-02-17T12:10:48.964550Z",
     "start_time": "2025-02-17T12:06:52.117948Z"
    }
   },
   "cell_type": "code",
   "source": "cnn_cls.train(train_loader_p, val_loader_p)",
   "id": "6a528d8a5947a600",
   "outputs": [
    {
     "name": "stdout",
     "output_type": "stream",
     "text": [
      "Epoch 1/50, Train Loss: 0.1818, Validation Loss: 0.0950\n",
      "Epoch 2/50, Train Loss: 0.0528, Validation Loss: 0.0616\n",
      "Epoch 3/50, Train Loss: 0.0346, Validation Loss: 0.0473\n",
      "Epoch 4/50, Train Loss: 0.0273, Validation Loss: 0.0468\n",
      "Epoch 5/50, Train Loss: 0.0231, Validation Loss: 0.0427\n",
      "Epoch 6/50, Train Loss: 0.0207, Validation Loss: 0.0350\n",
      "Epoch 7/50, Train Loss: 0.0154, Validation Loss: 0.0597\n",
      "Epoch 8/50, Train Loss: 0.0158, Validation Loss: 0.0350\n",
      "Epoch 9/50, Train Loss: 0.0131, Validation Loss: 0.0547\n",
      "Epoch 10/50, Train Loss: 0.0129, Validation Loss: 0.0489\n",
      "Epoch 11/50, Train Loss: 0.0121, Validation Loss: 0.0467\n",
      "Early stopping triggered at epoch 11.\n"
     ]
    }
   ],
   "execution_count": 12
  },
  {
   "metadata": {
    "ExecuteTime": {
     "end_time": "2025-02-15T10:48:55.623721Z",
     "start_time": "2025-02-15T10:48:55.268946Z"
    }
   },
   "cell_type": "code",
   "source": [
    "cnn_pred = cnn_cls.predict(test_images_p)\n",
    "print(f'Accuracy : {accuracy_score(test_labels_p, cnn_pred)}\\n'\n",
    "      f'f1_score : {f1_score(test_labels_p, cnn_pred, average='macro')}')"
   ],
   "id": "5c10ce7c8a313b4a",
   "outputs": [
    {
     "name": "stdout",
     "output_type": "stream",
     "text": [
      "Accuracy : 0.9907\n",
      "f1_score : 0.9906479283041179\n"
     ]
    }
   ],
   "execution_count": 19
  },
  {
   "metadata": {
    "ExecuteTime": {
     "end_time": "2025-02-15T10:49:10.829450Z",
     "start_time": "2025-02-15T10:49:10.817559Z"
    }
   },
   "cell_type": "code",
   "source": "cnn_cls.save(CNN_CLS_PATH)",
   "id": "48ae0f1080392de8",
   "outputs": [],
   "execution_count": 20
  }
 ],
 "metadata": {
  "kernelspec": {
   "display_name": "Python 3",
   "language": "python",
   "name": "python3"
  },
  "language_info": {
   "codemirror_mode": {
    "name": "ipython",
    "version": 2
   },
   "file_extension": ".py",
   "mimetype": "text/x-python",
   "name": "python",
   "nbconvert_exporter": "python",
   "pygments_lexer": "ipython2",
   "version": "2.7.6"
  }
 },
 "nbformat": 4,
 "nbformat_minor": 5
}
