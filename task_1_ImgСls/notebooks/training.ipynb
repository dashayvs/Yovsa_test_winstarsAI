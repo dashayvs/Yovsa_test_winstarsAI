{
 "cells": [
  {
   "cell_type": "code",
   "id": "initial_id",
   "metadata": {
    "collapsed": true,
    "ExecuteTime": {
     "end_time": "2025-02-15T11:24:43.214627Z",
     "start_time": "2025-02-15T11:24:42.588442Z"
    }
   },
   "source": [
    "from task_1_ImgСls.src.classifiers.mnist_classifier import MnistClassifier\n",
    "from task_1_ImgСls.src.data_loader import load_data\n",
    "from task_1_ImgСls.src.paths import RF_CLS_PATH, FNN_CLS_PATH, CNN_CLS_PATH\n",
    "from sklearn.metrics import accuracy_score, f1_score"
   ],
   "outputs": [],
   "execution_count": 24
  },
  {
   "metadata": {},
   "cell_type": "markdown",
   "source": "## 1. Data Loading",
   "id": "f54f1097971416ef"
  },
  {
   "metadata": {
    "ExecuteTime": {
     "end_time": "2025-02-15T10:31:36.791211Z",
     "start_time": "2025-02-15T10:31:31.948365Z"
    }
   },
   "cell_type": "code",
   "source": [
    "X_train_s, X_test_s, y_train_s, y_test_s = load_data(library='sklearn')\n",
    "train_loader_p, val_loader_p, test_images_p, test_labels_p = load_data(library='pytorch')"
   ],
   "id": "4a802455f433286e",
   "outputs": [],
   "execution_count": 2
  },
  {
   "metadata": {},
   "cell_type": "markdown",
   "source": "## 2. Random Forest",
   "id": "3d3a65bcd094673a"
  },
  {
   "metadata": {
    "ExecuteTime": {
     "end_time": "2025-02-15T10:33:13.971154Z",
     "start_time": "2025-02-15T10:31:46.161535Z"
    }
   },
   "cell_type": "code",
   "source": [
    "rf_cls = MnistClassifier('rf')\n",
    "rf_cls.train(X_train_s, y_train_s)"
   ],
   "id": "2b139fdeafd36d15",
   "outputs": [],
   "execution_count": 3
  },
  {
   "metadata": {
    "ExecuteTime": {
     "end_time": "2025-02-15T10:33:38.257251Z",
     "start_time": "2025-02-15T10:33:37.007508Z"
    }
   },
   "cell_type": "code",
   "source": [
    "rf_pred = rf_cls.predict(X_test_s)\n",
    "print(f'Accuracy : {accuracy_score(y_test_s, rf_pred)}\\n'\n",
    "      f'f1_score : {f1_score(y_test_s, rf_pred, average='macro')}')"
   ],
   "id": "1db38e6cf21766",
   "outputs": [
    {
     "name": "stdout",
     "output_type": "stream",
     "text": [
      "Accuracy : 0.9671428571428572\n",
      "f1_score : 0.9669757161699633\n"
     ]
    }
   ],
   "execution_count": 5
  },
  {
   "metadata": {
    "ExecuteTime": {
     "end_time": "2025-02-15T10:33:42.690626Z",
     "start_time": "2025-02-15T10:33:42.502049Z"
    }
   },
   "cell_type": "code",
   "source": "rf_cls.save(RF_CLS_PATH)",
   "id": "ff0e5a2e49af8b2b",
   "outputs": [],
   "execution_count": 6
  },
  {
   "metadata": {},
   "cell_type": "markdown",
   "source": "## 3. Feed-Forward NN",
   "id": "3b72d91528b8dcd5"
  },
  {
   "metadata": {
    "ExecuteTime": {
     "end_time": "2025-02-15T10:34:53.614162Z",
     "start_time": "2025-02-15T10:34:53.402597Z"
    }
   },
   "cell_type": "code",
   "source": "ffnn_cls = MnistClassifier('ffnn')",
   "id": "fa3aae01ae3e14d8",
   "outputs": [],
   "execution_count": 9
  },
  {
   "metadata": {
    "ExecuteTime": {
     "end_time": "2025-02-15T10:37:50.027819Z",
     "start_time": "2025-02-15T10:34:53.815522Z"
    }
   },
   "cell_type": "code",
   "source": "ffnn_cls.train(train_loader_p, val_loader_p)",
   "id": "7db359f1baa685b9",
   "outputs": [
    {
     "name": "stdout",
     "output_type": "stream",
     "text": [
      "Epoch 1/50, Train Loss: 0.3022, Validation Loss: 0.1504\n",
      "Epoch 2/50, Train Loss: 0.1280, Validation Loss: 0.1156\n",
      "Epoch 3/50, Train Loss: 0.0889, Validation Loss: 0.1106\n",
      "Epoch 4/50, Train Loss: 0.0687, Validation Loss: 0.0881\n",
      "Epoch 5/50, Train Loss: 0.0553, Validation Loss: 0.1048\n",
      "Epoch 6/50, Train Loss: 0.0434, Validation Loss: 0.0902\n",
      "Epoch 7/50, Train Loss: 0.0405, Validation Loss: 0.0946\n",
      "Epoch 8/50, Train Loss: 0.0356, Validation Loss: 0.1011\n",
      "Epoch 9/50, Train Loss: 0.0312, Validation Loss: 0.0800\n",
      "Epoch 10/50, Train Loss: 0.0259, Validation Loss: 0.0952\n",
      "Epoch 11/50, Train Loss: 0.0259, Validation Loss: 0.1005\n",
      "Epoch 12/50, Train Loss: 0.0218, Validation Loss: 0.0991\n",
      "Epoch 13/50, Train Loss: 0.0202, Validation Loss: 0.0944\n",
      "Epoch 14/50, Train Loss: 0.0207, Validation Loss: 0.1011\n",
      "Early stopping triggered at epoch 14.\n"
     ]
    }
   ],
   "execution_count": 10
  },
  {
   "metadata": {
    "ExecuteTime": {
     "end_time": "2025-02-15T10:40:32.003437Z",
     "start_time": "2025-02-15T10:40:31.964737Z"
    }
   },
   "cell_type": "code",
   "source": [
    "ffnn_pred = ffnn_cls.predict(test_images_p)\n",
    "print(f'Accuracy : {accuracy_score(test_labels_p, ffnn_pred)}\\n'\n",
    "      f'f1_score : {f1_score(test_labels_p, ffnn_pred, average='macro')}')"
   ],
   "id": "697609d5724df20a",
   "outputs": [
    {
     "name": "stdout",
     "output_type": "stream",
     "text": [
      "Accuracy : 0.9572\n",
      "f1_score : 0.9563986204924548\n"
     ]
    }
   ],
   "execution_count": 12
  },
  {
   "metadata": {
    "ExecuteTime": {
     "end_time": "2025-02-15T10:42:22.383805Z",
     "start_time": "2025-02-15T10:42:22.371036Z"
    }
   },
   "cell_type": "code",
   "source": "ffnn_cls.save(FNN_CLS_PATH)",
   "id": "b424001bb418750a",
   "outputs": [],
   "execution_count": 13
  },
  {
   "metadata": {},
   "cell_type": "markdown",
   "source": "## 4. CNN ",
   "id": "d01d3a7edea7e6cf"
  },
  {
   "metadata": {
    "ExecuteTime": {
     "end_time": "2025-02-15T10:43:24.691454Z",
     "start_time": "2025-02-15T10:43:24.674308Z"
    }
   },
   "cell_type": "code",
   "source": "cnn_cls = MnistClassifier('cnn')",
   "id": "e5a1659bdc49d847",
   "outputs": [],
   "execution_count": 17
  },
  {
   "metadata": {
    "ExecuteTime": {
     "end_time": "2025-02-15T10:48:10.010607Z",
     "start_time": "2025-02-15T10:45:10.390475Z"
    }
   },
   "cell_type": "code",
   "source": "cnn_cls.train(train_loader_p, val_loader_p)",
   "id": "6a528d8a5947a600",
   "outputs": [
    {
     "name": "stdout",
     "output_type": "stream",
     "text": [
      "Epoch 1/50, Train Loss: 0.1761, Validation Loss: 0.0576\n",
      "Epoch 2/50, Train Loss: 0.0517, Validation Loss: 0.0529\n",
      "Epoch 3/50, Train Loss: 0.0346, Validation Loss: 0.0411\n",
      "Epoch 4/50, Train Loss: 0.0273, Validation Loss: 0.0410\n",
      "Epoch 5/50, Train Loss: 0.0234, Validation Loss: 0.0400\n",
      "Epoch 6/50, Train Loss: 0.0194, Validation Loss: 0.0406\n",
      "Epoch 7/50, Train Loss: 0.0165, Validation Loss: 0.0392\n",
      "Epoch 8/50, Train Loss: 0.0158, Validation Loss: 0.0366\n",
      "Epoch 9/50, Train Loss: 0.0135, Validation Loss: 0.0372\n",
      "Epoch 10/50, Train Loss: 0.0138, Validation Loss: 0.0425\n",
      "Epoch 11/50, Train Loss: 0.0129, Validation Loss: 0.0488\n",
      "Epoch 12/50, Train Loss: 0.0099, Validation Loss: 0.0365\n",
      "Epoch 13/50, Train Loss: 0.0099, Validation Loss: 0.0372\n",
      "Epoch 14/50, Train Loss: 0.0101, Validation Loss: 0.0462\n",
      "Epoch 15/50, Train Loss: 0.0083, Validation Loss: 0.0474\n",
      "Epoch 16/50, Train Loss: 0.0092, Validation Loss: 0.0475\n",
      "Epoch 17/50, Train Loss: 0.0087, Validation Loss: 0.0503\n",
      "Early stopping triggered at epoch 17.\n"
     ]
    }
   ],
   "execution_count": 18
  },
  {
   "metadata": {
    "ExecuteTime": {
     "end_time": "2025-02-15T10:48:55.623721Z",
     "start_time": "2025-02-15T10:48:55.268946Z"
    }
   },
   "cell_type": "code",
   "source": [
    "cnn_pred = cnn_cls.predict(test_images_p)\n",
    "print(f'Accuracy : {accuracy_score(test_labels_p, cnn_pred)}\\n'\n",
    "      f'f1_score : {f1_score(test_labels_p, cnn_pred, average='macro')}')"
   ],
   "id": "5c10ce7c8a313b4a",
   "outputs": [
    {
     "name": "stdout",
     "output_type": "stream",
     "text": [
      "Accuracy : 0.9907\n",
      "f1_score : 0.9906479283041179\n"
     ]
    }
   ],
   "execution_count": 19
  },
  {
   "metadata": {
    "ExecuteTime": {
     "end_time": "2025-02-15T10:49:10.829450Z",
     "start_time": "2025-02-15T10:49:10.817559Z"
    }
   },
   "cell_type": "code",
   "source": "cnn_cls.save(CNN_CLS_PATH)",
   "id": "48ae0f1080392de8",
   "outputs": [],
   "execution_count": 20
  }
 ],
 "metadata": {
  "kernelspec": {
   "display_name": "Python 3",
   "language": "python",
   "name": "python3"
  },
  "language_info": {
   "codemirror_mode": {
    "name": "ipython",
    "version": 2
   },
   "file_extension": ".py",
   "mimetype": "text/x-python",
   "name": "python",
   "nbconvert_exporter": "python",
   "pygments_lexer": "ipython2",
   "version": "2.7.6"
  }
 },
 "nbformat": 4,
 "nbformat_minor": 5
}
